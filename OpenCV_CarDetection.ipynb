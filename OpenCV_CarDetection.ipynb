{
  "nbformat": 4,
  "nbformat_minor": 0,
  "metadata": {
    "colab": {
      "provenance": [],
      "include_colab_link": true
    },
    "kernelspec": {
      "name": "python3",
      "display_name": "Python 3"
    },
    "language_info": {
      "name": "python"
    }
  },
  "cells": [
    {
      "cell_type": "markdown",
      "metadata": {
        "id": "view-in-github",
        "colab_type": "text"
      },
      "source": [
        "<a href=\"https://colab.research.google.com/github/Naman-Coder-950/OpenCV-Car-Detection/blob/main/OpenCV_CarDetection.ipynb\" target=\"_parent\"><img src=\"https://colab.research.google.com/assets/colab-badge.svg\" alt=\"Open In Colab\"/></a>"
      ]
    },
    {
      "cell_type": "code",
      "source": [
        "!pip install opencv-python-headless\n",
        "!pip install opencv-python\n"
      ],
      "metadata": {
        "colab": {
          "base_uri": "https://localhost:8080/"
        },
        "id": "ABlCbu_Dg25U",
        "outputId": "706930d9-c26a-46da-9a1f-0ad6ae31d4d5"
      },
      "execution_count": 3,
      "outputs": [
        {
          "output_type": "stream",
          "name": "stdout",
          "text": [
            "Requirement already satisfied: opencv-python-headless in /usr/local/lib/python3.11/dist-packages (4.12.0.88)\n",
            "Requirement already satisfied: numpy<2.3.0,>=2 in /usr/local/lib/python3.11/dist-packages (from opencv-python-headless) (2.0.2)\n",
            "Requirement already satisfied: opencv-python in /usr/local/lib/python3.11/dist-packages (4.11.0.86)\n",
            "Requirement already satisfied: numpy>=1.21.2 in /usr/local/lib/python3.11/dist-packages (from opencv-python) (2.0.2)\n"
          ]
        }
      ]
    },
    {
      "cell_type": "code",
      "source": [
        "import sys\n",
        "print(sys.executable)"
      ],
      "metadata": {
        "id": "q2OuYtTduM-F",
        "colab": {
          "base_uri": "https://localhost:8080/"
        },
        "outputId": "cf94efd4-5d58-47cf-e27e-b778c90ef6f2"
      },
      "execution_count": 4,
      "outputs": [
        {
          "output_type": "stream",
          "name": "stdout",
          "text": [
            "/usr/bin/python3\n"
          ]
        }
      ]
    },
    {
      "cell_type": "code",
      "execution_count": 6,
      "metadata": {
        "id": "fcjK89s8uK_r"
      },
      "outputs": [],
      "source": [
        "import cv2\n",
        "import time\n",
        "import numpy as np\n",
        "\n",
        "# Create our body classifier\n",
        "car_classifier = cv2.CascadeClassifier('Haarcascades\\haarcascade_car.xml')\n",
        "\n",
        "# Initiate video capture for video file\n",
        "cap = cv2.VideoCapture('images/cars.avi')\n",
        "\n",
        "\n",
        "# Loop once video is successfully loaded\n",
        "while cap.isOpened():\n",
        "\n",
        "    time.sleep(.05)\n",
        "    # Read first frame\n",
        "    ret, frame = cap.read()\n",
        "    gray = cv2.cvtColor(frame, cv2.COLOR_BGR2GRAY)\n",
        "\n",
        "    # Pass frame to our car classifier\n",
        "    cars = car_classifier.detectMultiScale(gray, 1.4, 2)\n",
        "\n",
        "    # Extract bounding boxes for any bodies identified\n",
        "    for (x,y,w,h) in cars:\n",
        "        cv2.rectangle(frame, (x, y), (x+w, y+h), (0, 255, 255), 2)\n",
        "        cv2.imshow('Cars', frame)\n",
        "\n",
        "    if cv2.waitKey(1) == 13: #13 is the Enter Key\n",
        "        break\n",
        "\n",
        "cap.release()\n",
        "# cv2.destroyAllWindows()  # Not needed if you're not using cv2.imshow()\n"
      ]
    }
  ]
}